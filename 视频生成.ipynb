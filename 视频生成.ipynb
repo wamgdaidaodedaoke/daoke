{
 "cells": [
  {
   "cell_type": "code",
   "execution_count": 25,
   "id": "66ea8479",
   "metadata": {},
   "outputs": [
    {
     "name": "stdout",
     "output_type": "stream",
     "text": [
      "VideoObject(id='69751732174559569-9221302961635995866', model='cogvideox', video_result=None, task_status='PROCESSING', request_id='-9221302961635995867')\n"
     ]
    }
   ],
   "source": [
    "from zhipuai import ZhipuAI\n",
    "client = ZhipuAI(api_key = '0cee95a245f771b1e03c46a246ee9e78.if5OBJvHvr516lsZ')\n",
    "\n",
    "response1 = client.videos.generations(\n",
    "    model = 'cogvideox',\n",
    "    prompt= '是个美女，穿黑丝，正在跳舞，身材性感，身材丰满，会健身，会瑜伽，跳舞有灵动感，视频是全身出镜'\n",
    ")\n",
    "print(response1)"
   ]
  },
  {
   "cell_type": "code",
   "execution_count": 26,
   "id": "34d13855",
   "metadata": {},
   "outputs": [
    {
     "name": "stdout",
     "output_type": "stream",
     "text": [
      "VideoObject(id=None, model='cogvideox', video_result=[VideoResult(url='https://aigc-files.bigmodel.cn/api/cogvideo/5b5106ca-a7df-11ef-bd78-9ee7942420ea_0.mp4', cover_image_url='https://aigc-files.bigmodel.cn/api/cogvideo/5b5106ca-a7df-11ef-bd78-9ee7942420ea_cover_0.jpeg')], task_status='SUCCESS', request_id='-9221302961635995867')\n"
     ]
    }
   ],
   "source": [
    "from zhipuai import ZhipuAI\n",
    "client = ZhipuAI(api_key = '0cee95a245f771b1e03c46a246ee9e78.if5OBJvHvr516lsZ')\n",
    "\n",
    "response1 = client.videos.retrieve_videos_result(\n",
    "    id= '69751732174559569-9221302961635995866'\n",
    ")\n",
    "print(response1)"
   ]
  },
  {
   "cell_type": "code",
   "execution_count": 37,
   "id": "5c265c30",
   "metadata": {},
   "outputs": [
    {
     "name": "stdout",
     "output_type": "stream",
     "text": [
      "VideoObject(id='69751732174559569-9221301793403817738', model='cogvideox', video_result=None, task_status='PROCESSING', request_id='-9221301793403817740')\n"
     ]
    }
   ],
   "source": [
    "from zhipuai import ZhipuAI\n",
    "client = ZhipuAI(api_key = '0cee95a245f771b1e03c46a246ee9e78.if5OBJvHvr516lsZ')\n",
    "\n",
    "prompt = \"圣人强者，身着华丽金袍，周身环绕着璀璨圣洁的光芒，手掌散发出无尽威压，以一己之力，只手镇压诸天万界。\"\n",
    "response = client.videos.generations(\n",
    "    model = 'cogvideox',\n",
    "    prompt= prompt\n",
    ")\n",
    "print(response)"
   ]
  },
  {
   "cell_type": "code",
   "execution_count": 39,
   "id": "b75321ec",
   "metadata": {},
   "outputs": [
    {
     "name": "stdout",
     "output_type": "stream",
     "text": [
      "VideoObject(id=None, model='cogvideox', video_result=[VideoResult(url='https://aigc-files.bigmodel.cn/api/cogvideo/9b17257c-a7e0-11ef-bd78-9ee7942420ea_0.mp4', cover_image_url='https://aigc-files.bigmodel.cn/api/cogvideo/9b17257c-a7e0-11ef-bd78-9ee7942420ea_cover_0.jpeg')], task_status='SUCCESS', request_id='-9221301793403817740')\n"
     ]
    }
   ],
   "source": [
    "from zhipuai import ZhipuAI\n",
    "client = ZhipuAI(api_key = '0cee95a245f771b1e03c46a246ee9e78.if5OBJvHvr516lsZ')\n",
    "\n",
    "response = client.videos.retrieve_videos_result(\n",
    "    id= '69751732174559569-9221301793403817738'\n",
    ")\n",
    "print(response)"
   ]
  },
  {
   "cell_type": "code",
   "execution_count": null,
   "id": "cab6c80c",
   "metadata": {},
   "outputs": [],
   "source": []
  }
 ],
 "metadata": {
  "kernelspec": {
   "display_name": "Python 3 (ipykernel)",
   "language": "python",
   "name": "python3"
  },
  "language_info": {
   "codemirror_mode": {
    "name": "ipython",
    "version": 3
   },
   "file_extension": ".py",
   "mimetype": "text/x-python",
   "name": "python",
   "nbconvert_exporter": "python",
   "pygments_lexer": "ipython3",
   "version": "3.9.7"
  }
 },
 "nbformat": 4,
 "nbformat_minor": 5
}
