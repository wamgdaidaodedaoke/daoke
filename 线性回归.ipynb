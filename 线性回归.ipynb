{
 "cells": [
  {
   "cell_type": "code",
   "execution_count": 1,
   "id": "6ac817af",
   "metadata": {},
   "outputs": [],
   "source": [
    "import torch"
   ]
  },
  {
   "cell_type": "markdown",
   "id": "2d444cd3-7e26-4e17-b02d-5a69d7807a64",
   "metadata": {},
   "source": [
    "梯度计算  y=f(x,y)=x**2 + x + 1"
   ]
  },
  {
   "cell_type": "code",
   "execution_count": 14,
   "id": "5d871a9c",
   "metadata": {},
   "outputs": [],
   "source": [
    "import torch\n",
    "def func(x):\n",
    "    return x**2+x+1"
   ]
  },
  {
   "cell_type": "code",
   "execution_count": 15,
   "id": "1d790feb",
   "metadata": {},
   "outputs": [],
   "source": [
    "x = torch.tensor(1.0,requires_grad=True)"
   ]
  },
  {
   "cell_type": "code",
   "execution_count": 16,
   "id": "5b5fb749",
   "metadata": {},
   "outputs": [],
   "source": [
    "y = func(x)"
   ]
  },
  {
   "cell_type": "markdown",
   "id": "df84e5b8-d2b7-43e9-8f34-4b2f51c5d02e",
   "metadata": {},
   "source": [
    "计算y在x=1处的导数"
   ]
  },
  {
   "cell_type": "code",
   "execution_count": 17,
   "id": "bfd78d8d",
   "metadata": {},
   "outputs": [],
   "source": [
    "y.backward()"
   ]
  },
  {
   "cell_type": "code",
   "execution_count": 18,
   "id": "fb16b8b1",
   "metadata": {},
   "outputs": [
    {
     "data": {
      "text/plain": [
       "tensor(3.)"
      ]
     },
     "execution_count": 18,
     "metadata": {},
     "output_type": "execute_result"
    }
   ],
   "source": [
    "x.grad"
   ]
  },
  {
   "cell_type": "markdown",
   "id": "92d82c1f-4d38-4f89-8b5c-69d5d6aff036",
   "metadata": {},
   "source": [
    "-------------------------------------"
   ]
  },
  {
   "cell_type": "markdown",
   "id": "7c15770b-2db5-4520-aecd-e1c298dd5e3c",
   "metadata": {},
   "source": [
    "y=f(x,y) =x**2 +y**2"
   ]
  },
  {
   "cell_type": "code",
   "execution_count": 9,
   "id": "fae27230",
   "metadata": {},
   "outputs": [],
   "source": [
    "import torch\n",
    "def func(x):\n",
    "    return (x**2).sum()"
   ]
  },
  {
   "cell_type": "code",
   "execution_count": 10,
   "id": "108e1db0",
   "metadata": {},
   "outputs": [],
   "source": [
    "x=torch.tensor([0.0,1.0],requires_grad=True)"
   ]
  },
  {
   "cell_type": "code",
   "execution_count": 11,
   "id": "d928e30d",
   "metadata": {},
   "outputs": [],
   "source": [
    "y=func(x)"
   ]
  },
  {
   "cell_type": "markdown",
   "id": "367558ca-6e71-41f2-8cee-3e0654a8af97",
   "metadata": {},
   "source": [
    "计算y在点x=（0,1）处两个分量的偏导数"
   ]
  },
  {
   "cell_type": "code",
   "execution_count": 12,
   "id": "fd675382",
   "metadata": {},
   "outputs": [],
   "source": [
    "y.backward()"
   ]
  },
  {
   "cell_type": "code",
   "execution_count": 13,
   "id": "2447e538",
   "metadata": {},
   "outputs": [
    {
     "data": {
      "text/plain": [
       "tensor([0., 2.])"
      ]
     },
     "execution_count": 13,
     "metadata": {},
     "output_type": "execute_result"
    }
   ],
   "source": [
    "x.grad"
   ]
  },
  {
   "cell_type": "markdown",
   "id": "485fcc04-2984-499c-b981-ce33ee585574",
   "metadata": {},
   "source": [
    "自变量修改"
   ]
  },
  {
   "cell_type": "code",
   "execution_count": 23,
   "id": "6d2b13c3-5df0-4c42-836c-3e82f78b434a",
   "metadata": {},
   "outputs": [],
   "source": [
    "import torch\n",
    "x = torch.tensor(1.0,requires_grad=True)\n",
    "y=x"
   ]
  },
  {
   "cell_type": "code",
   "execution_count": 24,
   "id": "85d4c68a-2eb0-42af-a232-416a3d50d15e",
   "metadata": {},
   "outputs": [
    {
     "data": {
      "text/plain": [
       "tensor(1.)"
      ]
     },
     "execution_count": 24,
     "metadata": {},
     "output_type": "execute_result"
    }
   ],
   "source": [
    "y.backward()\n",
    "x.grad"
   ]
  },
  {
   "cell_type": "code",
   "execution_count": 25,
   "id": "cf1327d1-2855-4412-8f70-2a3306330347",
   "metadata": {},
   "outputs": [],
   "source": [
    "x = x - 0.1*3"
   ]
  },
  {
   "cell_type": "code",
   "execution_count": 26,
   "id": "ad07c4f6-1131-45ae-a124-44bd03100e72",
   "metadata": {},
   "outputs": [
    {
     "name": "stderr",
     "output_type": "stream",
     "text": [
      "C:\\Users\\admin\\AppData\\Local\\Temp/ipykernel_5424/3730140797.py:1: UserWarning: The .grad attribute of a Tensor that is not a leaf Tensor is being accessed. Its .grad attribute won't be populated during autograd.backward(). If you indeed want the .grad field to be populated for a non-leaf Tensor, use .retain_grad() on the non-leaf Tensor. If you access the non-leaf Tensor by mistake, make sure you access the leaf Tensor instead. See github.com/pytorch/pytorch/pull/30531 for more informations. (Triggered internally at C:\\actions-runner\\_work\\pytorch\\pytorch\\builder\\windows\\pytorch\\build\\aten\\src\\ATen/core/TensorBody.h:494.)\n",
      "  x.grad\n"
     ]
    }
   ],
   "source": [
    "x.grad"
   ]
  },
  {
   "cell_type": "markdown",
   "id": "14e9c6d1-06f8-40a5-bacf-d9caae8805ed",
   "metadata": {},
   "source": [
    "---"
   ]
  },
  {
   "cell_type": "markdown",
   "id": "10f60f03-3e1a-45e1-adf2-430b186ccaf0",
   "metadata": {},
   "source": [
    "禁用梯度"
   ]
  },
  {
   "cell_type": "code",
   "execution_count": 27,
   "id": "bc4e7884",
   "metadata": {},
   "outputs": [],
   "source": [
    "import torch\n",
    "x = torch.tensor(1.0,requires_grad=True)\n",
    "y=x"
   ]
  },
  {
   "cell_type": "code",
   "execution_count": 28,
   "id": "d8052cde",
   "metadata": {},
   "outputs": [
    {
     "data": {
      "text/plain": [
       "tensor(1.)"
      ]
     },
     "execution_count": 28,
     "metadata": {},
     "output_type": "execute_result"
    }
   ],
   "source": [
    "y.backward()\n",
    "x.grad"
   ]
  },
  {
   "cell_type": "code",
   "execution_count": 29,
   "id": "67f723f1",
   "metadata": {},
   "outputs": [
    {
     "ename": "RuntimeError",
     "evalue": "a leaf Variable that requires grad is being used in an in-place operation.",
     "output_type": "error",
     "traceback": [
      "\u001b[1;31m---------------------------------------------------------------------------\u001b[0m",
      "\u001b[1;31mRuntimeError\u001b[0m                              Traceback (most recent call last)",
      "\u001b[1;32m~\\AppData\\Local\\Temp/ipykernel_5424/2118377390.py\u001b[0m in \u001b[0;36m<module>\u001b[1;34m\u001b[0m\n\u001b[1;32m----> 1\u001b[1;33m \u001b[0mx\u001b[0m \u001b[1;33m-=\u001b[0m \u001b[1;36m0.1\u001b[0m\u001b[1;33m*\u001b[0m\u001b[1;36m3\u001b[0m\u001b[1;33m\u001b[0m\u001b[1;33m\u001b[0m\u001b[0m\n\u001b[0m",
      "\u001b[1;31mRuntimeError\u001b[0m: a leaf Variable that requires grad is being used in an in-place operation."
     ]
    }
   ],
   "source": [
    "x -= 0.1*3"
   ]
  },
  {
   "cell_type": "code",
   "execution_count": 30,
   "id": "c2b25007",
   "metadata": {},
   "outputs": [
    {
     "name": "stdout",
     "output_type": "stream",
     "text": [
      "tensor(1., requires_grad=True) tensor(1.)\n"
     ]
    }
   ],
   "source": [
    "print(x, x.grad)"
   ]
  },
  {
   "cell_type": "code",
   "execution_count": 31,
   "id": "00367e84",
   "metadata": {},
   "outputs": [],
   "source": [
    "with torch.no_grad():\n",
    "    x -= 0.1*3"
   ]
  },
  {
   "cell_type": "code",
   "execution_count": 32,
   "id": "cc157117",
   "metadata": {},
   "outputs": [
    {
     "name": "stdout",
     "output_type": "stream",
     "text": [
      "tensor(0.7000, requires_grad=True) tensor(1.)\n"
     ]
    }
   ],
   "source": [
    "print(x,x.grad)"
   ]
  },
  {
   "cell_type": "markdown",
   "id": "a206bf12-c53d-453b-8c30-8f48ff513bfb",
   "metadata": {},
   "source": [
    "---------------"
   ]
  },
  {
   "cell_type": "markdown",
   "id": "ef6e6d1b-03bd-43d9-af8c-5d59b8a4a426",
   "metadata": {},
   "source": [
    "梯度清零"
   ]
  },
  {
   "cell_type": "code",
   "execution_count": 34,
   "id": "44351153",
   "metadata": {},
   "outputs": [],
   "source": [
    "import torch\n",
    "x = torch.tensor(1.0,requires_grad=True)\n",
    "y = x"
   ]
  },
  {
   "cell_type": "code",
   "execution_count": 35,
   "id": "07873195",
   "metadata": {},
   "outputs": [
    {
     "data": {
      "text/plain": [
       "tensor(1.)"
      ]
     },
     "execution_count": 35,
     "metadata": {},
     "output_type": "execute_result"
    }
   ],
   "source": [
    "y.backward()\n",
    "x.grad"
   ]
  },
  {
   "cell_type": "code",
   "execution_count": 36,
   "id": "623a3cca",
   "metadata": {},
   "outputs": [
    {
     "data": {
      "text/plain": [
       "tensor(2.)"
      ]
     },
     "execution_count": 36,
     "metadata": {},
     "output_type": "execute_result"
    }
   ],
   "source": [
    "y.backward()\n",
    "x.grad"
   ]
  },
  {
   "cell_type": "code",
   "execution_count": 37,
   "id": "ead4c7c8",
   "metadata": {},
   "outputs": [
    {
     "data": {
      "text/plain": [
       "tensor(1.)"
      ]
     },
     "execution_count": 37,
     "metadata": {},
     "output_type": "execute_result"
    }
   ],
   "source": [
    "x.grad.zero_()\n",
    "y.backward()\n",
    "x.grad"
   ]
  },
  {
   "cell_type": "code",
   "execution_count": 38,
   "id": "9a1b18ec",
   "metadata": {},
   "outputs": [
    {
     "name": "stdout",
     "output_type": "stream",
     "text": [
      "tensor(1., requires_grad=True) tensor(1.)\n"
     ]
    }
   ],
   "source": [
    "print(x,x.grad)"
   ]
  },
  {
   "cell_type": "code",
   "execution_count": 42,
   "id": "5cf66833",
   "metadata": {},
   "outputs": [
    {
     "name": "stdout",
     "output_type": "stream",
     "text": [
      "tensor(-0.9589)\n"
     ]
    }
   ],
   "source": [
    "import torch\n",
    "\n",
    "# 创建一个包含值为5的张量，这里形状为标量（即形状为空的张量）\n",
    "x = torch.tensor(5.)\n",
    "\n",
    "# 计算正弦值\n",
    "result = torch.sin(x)\n",
    "\n",
    "print(result)"
   ]
  },
  {
   "cell_type": "code",
   "execution_count": 41,
   "id": "eef7dfb2",
   "metadata": {},
   "outputs": [
    {
     "name": "stdout",
     "output_type": "stream",
     "text": [
      "-0.9589242746631385\n"
     ]
    }
   ],
   "source": [
    "import numpy as np\n",
    "\n",
    "result = np.sin(5)\n",
    "print(result)"
   ]
  },
  {
   "cell_type": "markdown",
   "id": "ce7d8e25-e06d-43d7-959f-573ecf7131f4",
   "metadata": {},
   "source": [
    "------------------"
   ]
  },
  {
   "cell_type": "markdown",
   "id": "f5fa5e14-eaec-4f7c-9ab0-d3a495998ba4",
   "metadata": {},
   "source": [
    "自动微分"
   ]
  },
  {
   "cell_type": "code",
   "execution_count": 44,
   "id": "1ad380d0",
   "metadata": {},
   "outputs": [
    {
     "name": "stdout",
     "output_type": "stream",
     "text": [
      "函数f(x1, x2)的值为: tensor(11.6521, grad_fn=<SubBackward0>)\n",
      "关于x1的偏导数: tensor(5.5000)\n",
      "关于x2的偏导数: tensor(1.7163)\n"
     ]
    }
   ],
   "source": [
    "import torch\n",
    "\n",
    "# 定义自变量x1和x2，这里假设为具体的值，可根据需要修改\n",
    "x1 = torch.tensor(2., requires_grad=True)\n",
    "x2 = torch.tensor(5., requires_grad=True)\n",
    "\n",
    "# 计算函数f(x1, x2)的值\n",
    "f_value = torch.log(x1) + x1 * x2 - torch.sin(x2)\n",
    "\n",
    "# 可以查看函数值\n",
    "print(\"函数f(x1, x2)的值为:\", f_value)\n",
    "\n",
    "# 如果需要求关于x1和x2的偏导数\n",
    "f_value.backward()\n",
    "\n",
    "# 查看x1的偏导数\n",
    "print(\"关于x1的偏导数:\", x1.grad)\n",
    "\n",
    "# 查看x2的偏导数\n",
    "print(\"关于x2的偏导数:\", x2.grad)"
   ]
  },
  {
   "cell_type": "code",
   "execution_count": 59,
   "id": "e510b95b-ea91-473d-8280-b41ad01d8078",
   "metadata": {},
   "outputs": [],
   "source": [
    "import torch"
   ]
  },
  {
   "cell_type": "code",
   "execution_count": 64,
   "id": "472ab8b1-2f1c-4565-a7bd-b17ea542ffb0",
   "metadata": {},
   "outputs": [],
   "source": [
    "def sin(x):\n",
    "    return torch.sin(x)"
   ]
  },
  {
   "cell_type": "code",
   "execution_count": 65,
   "id": "f145d9d6-0c95-4525-9e6c-a183d46bdd00",
   "metadata": {},
   "outputs": [],
   "source": [
    "v_1 = x1\n",
    "v0 = x2\n",
    "v1 = torch.log(x1)\n",
    "v2 = v_1 * v0\n",
    "v3 = sin(v0)\n",
    "v4 = v1 + v2\n",
    "v5 = v4 -v3"
   ]
  },
  {
   "cell_type": "code",
   "execution_count": 66,
   "id": "dfd1c6fc-e584-4370-a4d9-4b8d9429466f",
   "metadata": {},
   "outputs": [],
   "source": [
    "if x1.grad is not None:\n",
    "    x1.grad.zero_()\n",
    "if x2.grad is not None:\n",
    "    x2.grad.zero_()\n",
    "v0.backward(retain_graph=True)"
   ]
  },
  {
   "cell_type": "code",
   "execution_count": null,
   "id": "92cbff13-4368-487a-a2d8-4bb2d086c1c6",
   "metadata": {},
   "outputs": [],
   "source": []
  },
  {
   "cell_type": "markdown",
   "id": "243b22e8-d348-49c5-81c1-5cc5090936c3",
   "metadata": {},
   "source": [
    "---------------------"
   ]
  },
  {
   "cell_type": "markdown",
   "id": "5131957d-653e-427e-ac37-3cfa9ae8b6f2",
   "metadata": {},
   "source": [
    "用torch实现自行实现sigmoif激活函数，并计算他在x=0点处的导数"
   ]
  },
  {
   "cell_type": "code",
   "execution_count": 55,
   "id": "c53d20ec",
   "metadata": {},
   "outputs": [
    {
     "name": "stdout",
     "output_type": "stream",
     "text": [
      "Sigmoid函数在x=0处的值为: 0.5\n",
      "Sigmoid函数在x=0处的导数为: 0.25\n"
     ]
    }
   ],
   "source": [
    "import torch\n",
    "\n",
    "# 自定义实现Sigmoid函数\n",
    "def sigmoid(x):\n",
    "    return 1 / (1 + torch.exp(-x))\n",
    "\n",
    "# 定义输入张量x，设置requires_grad=True以便计算导数\n",
    "x = torch.tensor(0., requires_grad=True)\n",
    "\n",
    "# 计算Sigmoid函数在x处的值\n",
    "y = sigmoid(x)\n",
    "\n",
    "# 计算Sigmoid函数在x处的导数\n",
    "y.backward()\n",
    "\n",
    "# 输出Sigmoid函数在x=0处的值和导数\n",
    "print(\"Sigmoid函数在x=0处的值为:\", y.item())\n",
    "print(\"Sigmoid函数在x=0处的导数为:\", x.grad.item())"
   ]
  },
  {
   "cell_type": "markdown",
   "id": "f875c8ae-24c0-4cef-9578-e43296e938c3",
   "metadata": {},
   "source": [
    "------------------"
   ]
  },
  {
   "cell_type": "markdown",
   "id": "15f6e486-f097-4be9-ba48-6df50ae131a2",
   "metadata": {},
   "source": []
  },
  {
   "cell_type": "code",
   "execution_count": 57,
   "id": "56ed7eab",
   "metadata": {},
   "outputs": [
    {
     "name": "stdout",
     "output_type": "stream",
     "text": [
      "y_function的值为: 2.952573776245117\n",
      "x1的导数为: 1.3894440371586825e-06\n",
      "x2的导数为: 6.947220754227601e-07\n"
     ]
    }
   ],
   "source": [
    "import torch\n",
    "\n",
    "\n",
    "# 自定义实现Sigmoid函数\n",
    "def sigmoid(x):\n",
    "    return 1 / (1 + torch.exp(-x))\n",
    "\n",
    "\n",
    "def y_function(x1, x2):\n",
    "    term1 = sigmoid(3 * sigmoid(x1 * x1 + 2 * x2 + 1))\n",
    "    term2 = sigmoid(x1 * x1 + 2 * x2 + 1)\n",
    "    return term1 + term2 + 1\n",
    "\n",
    "\n",
    "# 定义自变量x1和x2，这里假设为具体的值，可根据需要修改\n",
    "x1 = torch.tensor(2., requires_grad=True)\n",
    "x2 = torch.tensor(5., requires_grad=True)\n",
    "\n",
    "# 计算y_function在x1和x2处的值\n",
    "y = y_function(x1, x2)\n",
    "\n",
    "# 计算y_function在x1和x2处的导数\n",
    "y.backward()\n",
    "\n",
    "# 输出y_function在给定x1和x2处的值和导数\n",
    "print(\"y_function的值为:\", y.item())\n",
    "print(\"x1的导数为:\", x1.grad.item())\n",
    "print(\"x2的导数为:\", x2.grad.item())"
   ]
  },
  {
   "cell_type": "code",
   "execution_count": null,
   "id": "f632db91-d1a7-49a0-9f13-a23a2aed50ff",
   "metadata": {},
   "outputs": [],
   "source": []
  },
  {
   "cell_type": "markdown",
   "id": "b14f5263-d6d1-487f-9393-6978cd5a9a14",
   "metadata": {},
   "source": [
    "------------------"
   ]
  },
  {
   "cell_type": "code",
   "execution_count": 7,
   "id": "a3970f1c-c821-4c4e-bc16-a87f5d5f6aa7",
   "metadata": {},
   "outputs": [],
   "source": [
    "import pandas as pd\n",
    "from sklearn.metrics import roc_curve,auc\n",
    "import matplotlib.pyplot as pltLL"
   ]
  },
  {
   "cell_type": "code",
   "execution_count": 10,
   "id": "39b77d38",
   "metadata": {
    "tags": []
   },
   "outputs": [
    {
     "data": {
      "text/html": [
       "<div>\n",
       "<style scoped>\n",
       "    .dataframe tbody tr th:only-of-type {\n",
       "        vertical-align: middle;\n",
       "    }\n",
       "\n",
       "    .dataframe tbody tr th {\n",
       "        vertical-align: top;\n",
       "    }\n",
       "\n",
       "    .dataframe thead th {\n",
       "        text-align: right;\n",
       "    }\n",
       "</style>\n",
       "<table border=\"1\" class=\"dataframe\">\n",
       "  <thead>\n",
       "    <tr style=\"text-align: right;\">\n",
       "      <th></th>\n",
       "      <th>真实标签</th>\n",
       "      <th>预测分数</th>\n",
       "    </tr>\n",
       "  </thead>\n",
       "  <tbody>\n",
       "    <tr>\n",
       "      <th>0</th>\n",
       "      <td>1</td>\n",
       "      <td>0.900</td>\n",
       "    </tr>\n",
       "    <tr>\n",
       "      <th>1</th>\n",
       "      <td>1</td>\n",
       "      <td>0.800</td>\n",
       "    </tr>\n",
       "    <tr>\n",
       "      <th>2</th>\n",
       "      <td>0</td>\n",
       "      <td>0.700</td>\n",
       "    </tr>\n",
       "    <tr>\n",
       "      <th>3</th>\n",
       "      <td>1</td>\n",
       "      <td>0.600</td>\n",
       "    </tr>\n",
       "    <tr>\n",
       "      <th>4</th>\n",
       "      <td>1</td>\n",
       "      <td>0.550</td>\n",
       "    </tr>\n",
       "    <tr>\n",
       "      <th>5</th>\n",
       "      <td>1</td>\n",
       "      <td>0.540</td>\n",
       "    </tr>\n",
       "    <tr>\n",
       "      <th>6</th>\n",
       "      <td>0</td>\n",
       "      <td>0.530</td>\n",
       "    </tr>\n",
       "    <tr>\n",
       "      <th>7</th>\n",
       "      <td>0</td>\n",
       "      <td>0.520</td>\n",
       "    </tr>\n",
       "    <tr>\n",
       "      <th>8</th>\n",
       "      <td>1</td>\n",
       "      <td>0.510</td>\n",
       "    </tr>\n",
       "    <tr>\n",
       "      <th>9</th>\n",
       "      <td>0</td>\n",
       "      <td>0.505</td>\n",
       "    </tr>\n",
       "  </tbody>\n",
       "</table>\n",
       "</div>"
      ],
      "text/plain": [
       "   真实标签   预测分数\n",
       "0     1  0.900\n",
       "1     1  0.800\n",
       "2     0  0.700\n",
       "3     1  0.600\n",
       "4     1  0.550\n",
       "5     1  0.540\n",
       "6     0  0.530\n",
       "7     0  0.520\n",
       "8     1  0.510\n",
       "9     0  0.505"
      ]
     },
     "execution_count": 10,
     "metadata": {},
     "output_type": "execute_result"
    }
   ],
   "source": [
    "data = {\n",
    "    '真实标签':[1,1,0,1,1,1,0,0,1,0,1,0,1,0,0,0,1,0,1,0],\n",
    "    '预测分数':[0.9,0.8,0.7,0.6,0.55,0.54,0.53,0.52,0.51,0.505,0.4,0.39,0.38,0.37,0.36,0.35,0.34,0.33,0.30,0.1]\n",
    "}\n",
    "df = pd.DataFrame(data)\n",
    "df.head(10)"
   ]
  },
  {
   "cell_type": "code",
   "execution_count": 12,
   "id": "83238098-884e-4b2b-b19f-e73a8913c279",
   "metadata": {},
   "outputs": [
    {
     "name": "stdout",
     "output_type": "stream",
     "text": [
      "0.68\n"
     ]
    }
   ],
   "source": [
    "df_sorted = df.sort_values(by = '预测分数',ascending = False)\n",
    "\n",
    "cumulative_tp = df_sorted['真实标签'].cumsum()\n",
    "cumulative_fp = (1 - df_sorted['真实标签']).cumsum()\n",
    "\n",
    "total_tp = cumulative_tp.iloc[-1]\n",
    "total_fp = cumulative_fp.iloc[-1]\n",
    "\n",
    "fpr = cumulative_fp / total_fp\n",
    "tpr = cumulative_tp / total_tp\n",
    "\n",
    "roc_auc = auc(fpr,tpr)\n",
    "print(roc_auc)"
   ]
  },
  {
   "cell_type": "code",
   "execution_count": 14,
   "id": "78e6de1a-fa65-4d11-9f2c-e9aa13ffafe7",
   "metadata": {},
   "outputs": [
    {
     "data": {
      "image/png": "[encoded data removed]",
      "text/plain": [
       "<Figure size 576x432 with 1 Axes>"
      ]
     },
     "metadata": {
      "needs_background": "light"
     },
     "output_type": "display_data"
    }
   ],
   "source": [
    "plt.figure(figsize=(8,6))\n",
    "plt.plot(fpr,tpr,color='darkorange',lw = 2,label='ROC curve (area = %0.2f)' % roc_auc)\n",
    "plt.plot([0,1],[0,1],color='navy',lw=2,linestyle='--')\n",
    "plt.xlim([0.0,1.0])\n",
    "plt.ylim([0.0,1.05])\n",
    "plt.xlabel('False Positive Rate')\n",
    "plt.ylabel('True Positive Rate')\n",
    "plt.title('ROC Curve Analysis')\n",
    "plt.legend(loc='lower right')\n",
    "# 显示绘制好的图形\n",
    "plt.show()"
   ]
  },
  {
   "cell_type": "code",
   "execution_count": null,
   "id": "89737fb2-7a0c-45e0-9a89-7f962515b2d1",
   "metadata": {},
   "outputs": [],
   "source": [
    "from sklearn.datasets import load_iris\n",
    "from sklearn.model_selection import KFold,cross_val_score\n",
    "from sklearn.ensemble import RandomForestClassifier\n",
    "\n",
    "iris = load_iris()\n",
    "X = iris.data\n",
    "y = iris.target\n",
    "\n",
    "classifier = RandomForestClassifier(n_estimators=100,random_state=42)\n",
    "\n",
    "kf = KFold(n_splits=5,shuffle=True,random_state=42)\n",
    "\n",
    "scores = cross_val_score(classifier,X,y,cv = kf)\n",
    "\n",
    "print(f'每一折的得分：{scores}')\n",
    "print(f'平均得分:{scores.mean()}')\n",
    "\n",
    "import matplotlib.pyplot as plt\n",
    "\n",
    "folds = list(range(1,len(scores) + 1)\n",
    "plt. plot(folds,scores,mar"
   ]
  },
  {
   "cell_type": "code",
   "execution_count": 19,
   "id": "307f90cd-3c8f-4b92-8c9c-6953eae37bfb",
   "metadata": {},
   "outputs": [
    {
     "name": "stdout",
     "output_type": "stream",
     "text": [
      "每一折的得分：[1.         0.96666667 0.93333333 0.93333333 0.96666667]\n",
      "平均得分:0.9600000000000002\n"
     ]
    },
    {
     "data": {
      "image/png": "[encoded data removed]",
      "text/plain": [
       "<Figure size 720x576 with 1 Axes>"
      ]
     },
     "metadata": {
      "needs_background": "light"
     },
     "output_type": "display_data"
    }
   ],
   "source": [
    "from sklearn.datasets import load_iris\n",
    "from sklearn.model_selection import KFold, cross_val_score\n",
    "from sklearn.ensemble import RandomForestClassifier\n",
    "\n",
    "# 加载鸢尾花数据集\n",
    "iris = load_iris()\n",
    "X = iris.data\n",
    "y = iris.target\n",
    "\n",
    "# 创建随机森林分类器，设置估计器数量为100，随机种子为42\n",
    "classifier = RandomForestClassifier(n_estimators=100, random_state=42)\n",
    "\n",
    "# 创建KFold对象，设置折数为5，打乱数据顺序，随机种子为42\n",
    "kf = KFold(n_splits=5, shuffle=True, random_state=42)\n",
    "\n",
    "# 进行交叉验证，得到每折的得分\n",
    "scores = cross_val_score(classifier, X, y, cv=kf)\n",
    "\n",
    "# 打印每一折的得分和平均得分\n",
    "print(f'每一折的得分：{scores}')\n",
    "print(f'平均得分:{scores.mean()}')\n",
    "\n",
    "import matplotlib.pyplot as plt\n",
    "\n",
    "# 创建表示折数的列表，从1到得分列表的长度（即折数）\n",
    "folds = list(range(1, len(scores) + 1))\n",
    "plt.figure(figsize=(10,8))\n",
    "# 绘制每折得分的折线图\n",
    "# 这里修正了原代码中可能遗漏的参数设置，比如添加了线条颜色、标记等设置以便图形更清晰\n",
    "plt.plot(folds, scores, marker='o', color='blue', linewidth=1.5, label='Scores per Fold')\n",
    "\n",
    "# 设置x轴标签\n",
    "plt.xlabel('Fold Number')\n",
    "\n",
    "# 设置y轴标签\n",
    "plt.ylabel('Score')\n",
    "\n",
    "# 设置图形标题\n",
    "plt.title('Cross-Validation Scores for Random Forest Classifier on Iris Dataset')\n",
    "\n",
    "# 显示图例\n",
    "plt.legend()\n",
    "\n",
    "# 显示图形\n",
    "plt.show()"
   ]
  },
  {
   "cell_type": "code",
   "execution_count": 21,
   "id": "7aa572e4-0597-4eda-a491-f7bdec338277",
   "metadata": {},
   "outputs": [
    {
     "name": "stdout",
     "output_type": "stream",
     "text": [
      "斜率（权重）：6.997414262384324\n",
      "截距（偏置）: -9.581246597713744\n"
     ]
    }
   ],
   "source": [
    "import numpy as np\n",
    "from sklearn.linear_model import LinearRegression\n",
    "import matplotlib.pyplot as plt\n",
    "\n",
    "X = np.array([[50],[70],[82],[101],[120]])\n",
    "\n",
    "y = np.array([300,500,610,702,800])\n",
    "\n",
    "model = LinearRegression()\n",
    "\n",
    "model.fit(X,y)\n",
    "\n",
    "slope = model.coef_\n",
    "intercept = model.intercept_\n",
    "\n",
    "print(f'斜率（权重）：{slope[0]}')\n",
    "print(f'截距（偏置）: {intercept}')"
   ]
  },
  {
   "cell_type": "code",
   "execution_count": 24,
   "id": "7499d88c-b436-4a09-b81c-ef259ac98dbb",
   "metadata": {},
   "outputs": [
    {
     "name": "stdout",
     "output_type": "stream",
     "text": [
      "预测的价格:\n",
      "340.28946652150245\n",
      "480.23775176918895\n",
      "564.2067229178008\n",
      "697.157593903103\n",
      "830.1084648884051\n"
     ]
    },
    {
     "data": {
      "image/png": "[encoded data removed]",
      "text/plain": [
       "<Figure size 432x288 with 1 Axes>"
      ]
     },
     "metadata": {
      "needs_background": "light"
     },
     "output_type": "display_data"
    }
   ],
   "source": [
    "predictions = model.predict(X)\n",
    "\n",
    "print('预测的价格:')\n",
    "\n",
    "for pred in predictions:\n",
    "    print(pred)\n",
    "\n",
    "plt.scatter(X,y,color='blue')\n",
    "plt.plot(X,predictions,color='red')\n",
    "plt.title('House Price Prediction')\n",
    "plt.xlabel('Area(sq meters)')\n",
    "plt.ylabel('Price')\n",
    "plt.show()"
   ]
  },
  {
   "cell_type": "code",
   "execution_count": null,
   "id": "7988aed5-7513-40ef-9b23-e2bceafb5324",
   "metadata": {},
   "outputs": [],
   "source": []
  },
  {
   "cell_type": "code",
   "execution_count": null,
   "id": "1cab9062-2711-494a-bc25-37355ff5281e",
   "metadata": {},
   "outputs": [],
   "source": []
  },
  {
   "cell_type": "code",
   "execution_count": null,
   "id": "1438760d-e205-42be-ba1c-9aee1625afe4",
   "metadata": {},
   "outputs": [],
   "source": []
  },
  {
   "cell_type": "code",
   "execution_count": null,
   "id": "ac110abd-d836-4ed8-8288-2fcc44ab10bb",
   "metadata": {},
   "outputs": [],
   "source": []
  },
  {
   "cell_type": "code",
   "execution_count": null,
   "id": "b3991555-644a-4b2a-87b3-27156d4e7e0e",
   "metadata": {},
   "outputs": [],
   "source": []
  },
  {
   "cell_type": "code",
   "execution_count": null,
   "id": "35d10f80-f368-4885-87ac-26bd94fc10d7",
   "metadata": {},
   "outputs": [],
   "source": []
  },
  {
   "cell_type": "code",
   "execution_count": null,
   "id": "5b9bc4b7-341c-44fc-8fba-026aa29ea1c9",
   "metadata": {},
   "outputs": [],
   "source": []
  },
  {
   "cell_type": "code",
   "execution_count": null,
   "id": "490085a6-8fc2-4dd6-bda4-37585431c673",
   "metadata": {},
   "outputs": [],
   "source": []
  },
  {
   "cell_type": "code",
   "execution_count": null,
   "id": "1b669666-a45d-4582-93bd-c1d762fb8d1e",
   "metadata": {},
   "outputs": [],
   "source": []
  },
  {
   "cell_type": "code",
   "execution_count": null,
   "id": "70cf6152-7a48-4c2d-b9f7-98d9bcba656f",
   "metadata": {},
   "outputs": [],
   "source": []
  },
  {
   "cell_type": "code",
   "execution_count": null,
   "id": "23de08f0-77c4-4194-a8ec-c8c7b0b81b64",
   "metadata": {},
   "outputs": [],
   "source": []
  },
  {
   "cell_type": "code",
   "execution_count": null,
   "id": "2eedfc38-5b17-4dd6-a295-366e2d47741c",
   "metadata": {},
   "outputs": [],
   "source": []
  },
  {
   "cell_type": "code",
   "execution_count": null,
   "id": "5df35ef8-c217-41c8-a694-c99fd0d7138c",
   "metadata": {},
   "outputs": [],
   "source": []
  },
  {
   "cell_type": "code",
   "execution_count": null,
   "id": "dbe2b714-4202-4b7b-8965-7acc8b730eb6",
   "metadata": {},
   "outputs": [],
   "source": []
  },
  {
   "cell_type": "code",
   "execution_count": null,
   "id": "8cb6e401-a848-4f2b-b9dc-9c2b4dae2c49",
   "metadata": {},
   "outputs": [],
   "source": []
  },
  {
   "cell_type": "code",
   "execution_count": null,
   "id": "896250d8-4865-43b1-ad3d-3c396d486614",
   "metadata": {},
   "outputs": [],
   "source": []
  },
  {
   "cell_type": "code",
   "execution_count": null,
   "id": "200c95db-b1a3-439d-8505-4ea00c457eed",
   "metadata": {},
   "outputs": [],
   "source": []
  },
  {
   "cell_type": "code",
   "execution_count": null,
   "id": "16e5322b-d279-465b-aede-6f3b16064eeb",
   "metadata": {},
   "outputs": [],
   "source": []
  },
  {
   "cell_type": "code",
   "execution_count": null,
   "id": "65009834",
   "metadata": {},
   "outputs": [],
   "source": []
  },
  {
   "cell_type": "code",
   "execution_count": null,
   "id": "5e134f97",
   "metadata": {},
   "outputs": [],
   "source": []
  },
  {
   "cell_type": "code",
   "execution_count": null,
   "id": "c94f0073",
   "metadata": {},
   "outputs": [],
   "source": []
  },
  {
   "cell_type": "code",
   "execution_count": null,
   "id": "f13167ef",
   "metadata": {},
   "outputs": [],
   "source": []
  }
 ],
 "metadata": {
  "kernelspec": {
   "display_name": "Python 3 (ipykernel)",
   "language": "python",
   "name": "python3"
  },
  "language_info": {
   "codemirror_mode": {
    "name": "ipython",
    "version": 3
   },
   "file_extension": ".py",
   "mimetype": "text/x-python",
   "name": "python",
   "nbconvert_exporter": "python",
   "pygments_lexer": "ipython3",
   "version": "3.9.7"
  }
 },
 "nbformat": 4,
 "nbformat_minor": 5
}
